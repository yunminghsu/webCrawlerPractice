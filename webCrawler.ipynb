{
 "cells": [
  {
   "cell_type": "code",
   "execution_count": 1,
   "metadata": {
    "collapsed": true
   },
   "outputs": [
    {
     "name": "stdout",
     "output_type": "stream",
     "text": [
      "Requirement already satisfied: beautifulsoup4 in /opt/anaconda3/lib/python3.9/site-packages (4.11.1)\r\n",
      "Collecting beautifulsoup4\r\n",
      "  Downloading beautifulsoup4-4.11.2-py3-none-any.whl (129 kB)\r\n",
      "\u001b[K     |████████████████████████████████| 129 kB 1.2 MB/s eta 0:00:01\r\n",
      "\u001b[?25hRequirement already satisfied: soupsieve>1.2 in /opt/anaconda3/lib/python3.9/site-packages (from beautifulsoup4) (2.3.1)\r\n",
      "Installing collected packages: beautifulsoup4\r\n",
      "  Attempting uninstall: beautifulsoup4\r\n",
      "    Found existing installation: beautifulsoup4 4.11.1\r\n",
      "    Uninstalling beautifulsoup4-4.11.1:\r\n",
      "      Successfully uninstalled beautifulsoup4-4.11.1\r\n",
      "Successfully installed beautifulsoup4-4.11.2\r\n"
     ]
    }
   ],
   "source": [
    "import requests\n",
    "!pip install -U beautifulsoup4"
   ]
  },
  {
   "cell_type": "code",
   "execution_count": 13,
   "metadata": {},
   "outputs": [],
   "source": [
    "from bs4 import BeautifulSoup"
   ]
  },
  {
   "cell_type": "code",
   "execution_count": 14,
   "metadata": {},
   "outputs": [],
   "source": [
    "url=\"https://www.taiwanlottery.com.tw/\""
   ]
  },
  {
   "cell_type": "code",
   "execution_count": 15,
   "metadata": {},
   "outputs": [],
   "source": [
    "r=requests.get(url)\n",
    "sp=BeautifulSoup(r.text,\"lxml\")"
   ]
  },
  {
   "cell_type": "code",
   "execution_count": 19,
   "metadata": {},
   "outputs": [],
   "source": [
    "datas=sp.find(\"div\",class_=\"contents_box02\")"
   ]
  },
  {
   "cell_type": "code",
   "execution_count": 20,
   "metadata": {},
   "outputs": [],
   "source": [
    "title=datas.find(\"span\",\"font_black15\").text"
   ]
  },
  {
   "cell_type": "code",
   "execution_count": 21,
   "metadata": {},
   "outputs": [
    {
     "name": "stdout",
     "output_type": "stream",
     "text": [
      "112/3/2 第112000018期 \n"
     ]
    }
   ],
   "source": [
    "print(title)"
   ]
  },
  {
   "cell_type": "code",
   "execution_count": 24,
   "metadata": {},
   "outputs": [
    {
     "name": "stdout",
     "output_type": "stream",
     "text": [
      "[<div class=\"ball_tx ball_green\">12 </div>, <div class=\"ball_tx ball_green\">03 </div>, <div class=\"ball_tx ball_green\">27 </div>, <div class=\"ball_tx ball_green\">18 </div>, <div class=\"ball_tx ball_green\">26 </div>, <div class=\"ball_tx ball_green\">34 </div>, <div class=\"ball_tx ball_green\">03 </div>, <div class=\"ball_tx ball_green\">12 </div>, <div class=\"ball_tx ball_green\">18 </div>, <div class=\"ball_tx ball_green\">26 </div>, <div class=\"ball_tx ball_green\">27 </div>, <div class=\"ball_tx ball_green\">34 </div>]\n"
     ]
    }
   ],
   "source": [
    "number=datas.findAll(\"div\",\"ball_tx ball_green\")\n",
    "print(number)"
   ]
  },
  {
   "cell_type": "code",
   "execution_count": 33,
   "metadata": {},
   "outputs": [
    {
     "name": "stdout",
     "output_type": "stream",
     "text": [
      "12 03 27 18 26 34 "
     ]
    }
   ],
   "source": [
    "for i in range(0,6):\n",
    "    print(number[i].text,end=\"\")"
   ]
  },
  {
   "cell_type": "code",
   "execution_count": 34,
   "metadata": {},
   "outputs": [],
   "source": [
    "red_ball=datas.find(\"div\",\"ball_red\")"
   ]
  },
  {
   "cell_type": "code",
   "execution_count": 36,
   "metadata": {},
   "outputs": [
    {
     "name": "stdout",
     "output_type": "stream",
     "text": [
      "04 \n"
     ]
    }
   ],
   "source": [
    "print(red_ball.text)"
   ]
  },
  {
   "cell_type": "code",
   "execution_count": 42,
   "metadata": {},
   "outputs": [
    {
     "name": "stdout",
     "output_type": "stream",
     "text": [
      "威力彩期數： 112/3/2 第112000018期 \n",
      "開出順序：12 03 27 18 26 34 \n",
      "大小順序：03 12 18 26 27 34 \n",
      "第二區： 04 \n"
     ]
    }
   ],
   "source": [
    "print(\"威力彩期數：\",title)\n",
    "print(\"開出順序：\",end=\"\")\n",
    "for i in range(0,6):\n",
    "    print(number[i].text,end=\"\")\n",
    "\n",
    "print(\"\\n大小順序：\",end=\"\")\n",
    "for i in range(6,12):\n",
    "    print(number[i].text,end=\"\")\n",
    "print(\"\\n第二區：\",red_ball.text)"
   ]
  },
  {
   "cell_type": "code",
   "execution_count": null,
   "metadata": {},
   "outputs": [],
   "source": []
  }
 ],
 "metadata": {
  "kernelspec": {
   "display_name": "Python 3 (ipykernel)",
   "language": "python",
   "name": "python3"
  },
  "language_info": {
   "codemirror_mode": {
    "name": "ipython",
    "version": 3
   },
   "file_extension": ".py",
   "mimetype": "text/x-python",
   "name": "python",
   "nbconvert_exporter": "python",
   "pygments_lexer": "ipython3",
   "version": "3.9.6"
  }
 },
 "nbformat": 4,
 "nbformat_minor": 1
}
